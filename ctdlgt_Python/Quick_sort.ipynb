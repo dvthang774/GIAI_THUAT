{
 "cells": [
  {
   "cell_type": "code",
   "execution_count": null,
   "metadata": {},
   "outputs": [],
   "source": [
    "# There are different ways to do a Quick Sort partition, this implements the\n",
    "# Hoare partition scheme. Tony Hoare also created the Quick Sort algorithm.\n",
    "def partition(nums, low, high):\n",
    "    # We select the middle element to be the pivot. Some implementations select\n",
    "    # the first element or the last element. Sometimes the median value becomes\n",
    "    # the pivot, or a random one. There are many more strategies that can be\n",
    "    # chosen or created.\n",
    "    pivot = nums[(low + high) // 2]\n",
    "    i = low - 1\n",
    "    j = high + 1\n",
    "    while True:\n",
    "        i += 1\n",
    "        while nums[i] < pivot:\n",
    "            i += 1\n",
    "\n",
    "        j -= 1\n",
    "        while nums[j] > pivot:\n",
    "            j -= 1\n",
    "\n",
    "        if i >= j:\n",
    "            return j\n",
    "\n",
    "        # If an element at i (on the left of the pivot) is larger than the\n",
    "        # element at j (on right right of the pivot), then swap them\n",
    "        nums[i], nums[j] = nums[j], nums[i]\n",
    "\n",
    "\n",
    "def quick_sort(nums):\n",
    "    # Create a helper function that will be called recursively\n",
    "    def _quick_sort(items, low, high):\n",
    "        if low < high:\n",
    "            # This is the index after the pivot, where our lists are split\n",
    "            split_index = partition(items, low, high)\n",
    "            _quick_sort(items, low, split_index)\n",
    "            _quick_sort(items, split_index + 1, high)\n",
    "\n",
    "    _quick_sort(nums, 0, len(nums) - 1)\n",
    "\n",
    "\n",
    "# Verify it works\n",
    "random_list_of_nums = [22, 5, 1, 18, 99]\n",
    "quick_sort(random_list_of_nums)\n",
    "print(random_list_of_nums)  "
   ]
  }
 ],
 "metadata": {
  "kernelspec": {
   "display_name": "Python 3",
   "language": "python",
   "name": "python3"
  },
  "language_info": {
   "codemirror_mode": {
    "name": "ipython",
    "version": 3
   },
   "file_extension": ".py",
   "mimetype": "text/x-python",
   "name": "python",
   "nbconvert_exporter": "python",
   "pygments_lexer": "ipython3",
   "version": "3.8.5"
  }
 },
 "nbformat": 4,
 "nbformat_minor": 4
}
